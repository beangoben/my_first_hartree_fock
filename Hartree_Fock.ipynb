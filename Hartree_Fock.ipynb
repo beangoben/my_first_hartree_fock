{
 "cells": [
  {
   "cell_type": "markdown",
   "metadata": {},
   "source": [
    "# Considerable Exercise Two: <br> Hartree Fock and Quantum Chemistry\n",
    "## Due Dec 3, 2015\n",
    "\n",
    "#### <i class=\"fa fa-exclamation-triangle\"></i> COLLABORATION IS FORBIDDEN ON THIS EXERCISE\n",
    "\n",
    "## Intro"
   ]
  },
  {
   "cell_type": "markdown",
   "metadata": {},
   "source": [
    "In Quantum Chemistry, we are interested to calculate properties of atoms and molecules from first principles. To do so, we need to calculate/obtain the wavefunctions of atoms and molecules. A big challenge is that (many-electron) atom and molecule wavefunctions are many-body problems and exact expressions do not exist. Therefore, we must use a trial wavefunction and apply the variational principle to find the minimal energy wavefunction. A procedure that have been particularly useful to generate a trial wavefunction in quantum chemistry is the Hartree-Fock method. In the Hartree-Fock method, the electron-electron interaction term is replaced by the Coulomb and Exchange terms, that accounts for the \"average\" repulsion experienced by an electron in the field of the other electrons. The Hartree-Fock aproximation allows us to formulate the **many-electron** problem as a set of **one-electron** equations:\n",
    "\n",
    "$$\\hat{F}(r_1) \\psi_i(r_1) = \\epsilon_i \\psi_i(r_1),$$\n",
    "\n",
    "where $F(r_1)$ is the corresponding Fock operator, and  $\\psi_i(r_1)$ is a one-electron function or **orbital**. The total wavefunction for n electrons will be the antisymmetrized product of n orbitals:\n",
    "\n",
    "$$ \\Psi^{HF} = \\frac{1}{\\sqrt{n!}}   \n",
    "\\left|\n",
    "   \\begin{matrix} \\psi_1(r_1) & \\psi_2(r_1) & \\cdots & \\psi_n(r_1) \\\\\n",
    "                      \\psi_1(r_2) & \\psi_2(r_2) & \\cdots & \\psi_n(r_2) \\\\\n",
    "                      \\vdots & \\vdots & \\ddots & \\vdots \\\\\n",
    "                      \\psi_1(r_n) & \\psi_2(r_n) & \\cdots & \\psi_n(r_n)\n",
    "   \\end{matrix}\n",
    "\\right| $$\n",
    "where each coordinate $r_i$ represents the spatial and the spin coordinates of the i-th electron. The Fock operator (for closed-shell molecules), $F(r_i)$, comprises the following elements:\n",
    "\n",
    "$$\\hat{F}(r_1) = \\hat{h}_{core}(r_1) + \\hat{G}(r_1),$$\n",
    "where $$\\hat{G}(r_1)=\\sum_{j=1}^N \\left[ 2 \\hat{J}_j(r_1) - \\hat{K}_j(r_1) \\right].$$\n",
    "\n",
    "$\\hat{h}_{core}$ includes the one-electron kinetic energy contribution and the electrostatic interaction between the one electron and all of the nuclei:\n",
    "\n",
    "$$\\hat{h}_{core}(r_1) = -\\frac{1}{2} \\nabla_1^2 - \\sum_A \\frac{Z_A}{r_{1A}},$$\n",
    "\n",
    "$\\hat{J}_j(r_1)$ is the Coulomb operator:\n",
    "\n",
    "$$\\hat{J}_j(r_1) \\psi_i(r_1) = \\psi_i(r_1) \\int dr_2 \\psi^*_j(r_2) \\frac{1}{r_{12}} \\psi_j(r_2)$$\n",
    "\n",
    "$\\hat{K}_j(r_1)$ is the exchange operator:\n",
    "\n",
    "$$\\hat{K}_j(r_1) \\psi_i(r_1) = \\psi_j(r_1) \\int dr_2 \\psi^*_j(r_2) \\frac{1}{r_{12}} \\psi_i(r_2).$$\n",
    "\n",
    "By solving the equations above, we can obtain the *orbital energies*\n",
    "\n",
    "$$\\epsilon_i = h_i + \\sum_{j=1}^N \\left( 2 J_{ij} - K_{ij} \\right), \\ \\text{(Closed shell molecule)} $$ \n",
    "\n",
    "where\n",
    "\n",
    "$$h_j = \\int dr_j \\psi^\\dagger_j(r_j) \\left( -\\frac{1}{2}\\nabla^2_j - \\sum_A^M \\frac{Z_A}{R_{jA}}  \\right) \\psi_j(r_j) $$\n",
    "\n",
    "is the 1 electron integral,\n",
    "\n",
    "$$J_{ij} = \\int \\int dr_1 dr_2 \\psi^*_i(r_1) \\psi^*_j(r_2) \\frac{1}{r_{12}} \\psi_i(r_1) \\psi_j(r_2) $$\n",
    "\n",
    "is the coulomb integral, and\n",
    "\n",
    "$$K_{ij} = \\int \\int dr_1 dr_2 \\psi^*_i(r_1) \\psi^*_j(r_2) \\frac{1}{r_{12}} \\psi_i(r_2) \\psi_j(r_1) $$\n",
    "is the exchange integral.\n",
    "\n",
    "The Hartree-Fock energy is obtained by evaluating $\\langle \\Psi^{HF} | \\hat{H} | \\Psi^{HF} \\rangle$, where $\\hat{H}$ is the exact molecular Hamiltonian. The energy can be shown to be equivalent to:\n",
    "\n",
    "$$E = \\sum_{i=1}^N\\left( h_i + \\epsilon_i \\right)$$\n",
    "\n",
    "The key step towards solving the Hartree-Fock equations numerically is to expanding the orbitals, $\\psi_i$, using a **fixed set of basis functions** (the basis functions are the **atomic orbitals (AO)** in this exercise), {$\\phi_k$}:\n",
    "\n",
    "$$\\psi_i(r) = \\sum_k c_{ki} \\phi_{k}(r)$$,\n",
    "\n",
    "Then the Hartree-Fock equation becomes the Hartree-Fock-Roothaan equation:\n",
    "\n",
    "$$\\sum_j F_{jk} c_{ki} = \\epsilon_i \\sum_j S_{jk} c_{ki}$$\n",
    "\n",
    "where the elements of the **Fock-Matrix**, $F_{ij}$, are given by:\n",
    "\n",
    "$$F_{ij} = \\int dr_1 \\phi^*_i(r_1) F(r_1) \\phi_j(r_1)$$\n",
    "\n",
    "and the elements of the **overlap** matrix, $S_{ij}$, are:\n",
    "\n",
    "$$S_{ij} = \\int dr_1 \\phi_i^*(r_1) \\phi_j(r_1).$$\n",
    "\n",
    "The previous equations can be cast into the following matrix form:\n",
    "\n",
    "## $$ F C = \\epsilon S C$$\n",
    "\n",
    "where $F$ is the Fock matrix, $C$ is a matrix that contains all the vectors $C_i$ that represent the orbitals and $\\epsilon$ is the vector of orbital energies. This equation will have to be solved self consistently, because $F$ depends on $C$. This means that we need to propose an initial guess for $C$, compute F from this guess, recompute $C$ based on the new F and repeat until the values in $F$ and $C$ remain unchaged (within certain threshold). \n",
    "\n",
    "In this exercise you will work towards implementing the equations required for performing Hartree-Fock calculations for molecules. You will do this with some help of a python quantum chemistry package called pyquante. Once you have your own Hartree-Fock code (exercise 1 and 2), you will apply it to explore multiple chemically interesting problems (exercises 3-6)."
   ]
  },
  {
   "cell_type": "markdown",
   "metadata": {},
   "source": [
    "## Modules"
   ]
  },
  {
   "cell_type": "code",
   "execution_count": null,
   "metadata": {
    "collapsed": false
   },
   "outputs": [],
   "source": [
    "# imports\n",
    "import numpy as np \n",
    "from scipy.linalg import eigh\n",
    "import scipy.linalg as LA\n",
    "import matplotlib.pyplot as plt\n",
    "%matplotlib inline\n",
    "# Pyquante\n",
    "import PyQuante\n",
    "from PyQuante.Molecule import Molecule\n",
    "from PyQuante import Ints\n",
    "from PyQuante.Ints import coulomb\n",
    "from PyQuante.hartree_fock import rhf\n",
    "from PyQuante.Ints import getbasis\n",
    "# add all probables spots for the quantum world library\n",
    "import sys\n",
    "sys.path.append('../library')\n",
    "sys.path.append('../../library')\n",
    "sys.path.append('/home/student/chem160/library')\n",
    "#This is how we'll import our own home-made modules\n",
    "import quantumWorld as qworld"
   ]
  },
  {
   "cell_type": "markdown",
   "metadata": {},
   "source": [
    "# <i class=\"fa fa-check-circle-o\"></i> Exercise 1: <br>  Writing all the helper functions"
   ]
  },
  {
   "cell_type": "markdown",
   "metadata": {},
   "source": [
    "We'll be using some of the predefined data structures from PyQuante to conveniently keep track of many of the more difficult  (and less instructive) parts of quantum chemical simulations. In case you have not met Pyquante, here is a small description:\n",
    "\n",
    "![fake pyquante](files/PyQuante.jpg)\n",
    "From [pyquante's website](http://pyquante.sourceforge.net/):\n",
    ">PyQuante is an open-source suite of programs for developing quantum chemistry methods.\n",
    "> The goal of this software is not necessarily to provide a working quantum chemistry program\n",
    ">, but rather to provide a well-engineered set of tools so that scientists can construct \n",
    "> their own quantum chemistry programs without going through the tedium of having to write \n",
    "> every low-level routine.\n",
    "\n",
    "The first part of this is the **Molecule** object. \n",
    "\n",
    "The way to think of this object is a collection where you put the name, atom list with coordinates, and units in a standardized format such that the program can understand.\n",
    "\n",
    "Let's make this more concrete:\n",
    "```python\n",
    "variable_name = Molecule('name',\n",
    "                          atomlist = [(atomic_number,(x1, y1, z1)),\n",
    "                                      (atomic_number,(x2, y2, z2))],\n",
    "                          units = 'Bohr')\n",
    "```\n",
    "This is the general call to create a molecule collection named \"name\" with 2 atoms.\n",
    "\n",
    "For example a hydrogen molecule with name h2, and internuclear spacing of 1.4 bohr would be defined as:\n",
    "```python\n",
    "h2 = Molecule('h2',\n",
    "              atomlist = [(1,(0.,0.,0.7)),(1,(0.,0.,-0.7))],\n",
    "              units = 'Bohr')\n",
    "```"
   ]
  },
  {
   "cell_type": "code",
   "execution_count": null,
   "metadata": {
    "collapsed": false
   },
   "outputs": [],
   "source": [
    "# Test Molecule\n",
    "mol = Molecule('h2',\n",
    "              atomlist = [(1,(0.,0.,0.7)),(1,(0.,0.,-0.7))],\n",
    "              units = 'Bohr')"
   ]
  },
  {
   "cell_type": "markdown",
   "metadata": {},
   "source": [
    "## <i class=\"fa fa-eye\"></i> Visualizing 3D molecules\n",
    "\n",
    "We can visualize xyz geometries via the [imolecule package](http://patrick-fuller.com/imolecule/), we have wrapped a function called **visualize_Mol** that takes as input a Pyquante molecule and will return a embedable 3d WebGL representation that you can zoom, move and rotate with your mouse!\n",
    "\n",
    "Not only that but we can visualize multiple molecules by giving a list of PyQuante molecules to **visualize_Molecules**! (also in qworld)\n",
    "\n",
    "Don't believe me? Try it for yourself, move that molecule, edit the molecule above to experiment with other structures."
   ]
  },
  {
   "cell_type": "code",
   "execution_count": null,
   "metadata": {
    "collapsed": false
   },
   "outputs": [],
   "source": [
    "qworld.visualize_Mol(mol)"
   ]
  },
  {
   "cell_type": "markdown",
   "metadata": {},
   "source": [
    "## Get to know your basis functions\n",
    "\n",
    "The next thing we need to do is to generate the basis functions for the molecule. This can be done by PyQuante as well with the \n",
    "```python \n",
    "Ints.getbasis(molecule_name)\n",
    "```\n",
    "method as seen below.\n",
    "Also use **qworld.print_orbitalInfo(mol, test_fns)** to print orbital information and get some insight in to what your basis functions are exactly.\n",
    "\n",
    "*Note:* This imports the default basis set, which is 6-31G*"
   ]
  },
  {
   "cell_type": "code",
   "execution_count": null,
   "metadata": {
    "collapsed": false
   },
   "outputs": [],
   "source": [
    "test_fns = Ints.getbasis(mol)\n",
    "qworld.print_orbitalInfo(mol, test_fns)"
   ]
  },
  {
   "cell_type": "markdown",
   "metadata": {},
   "source": [
    "##  <i class=\"fa fa-eye\"></i>  Visualizing 3D orbitals\n",
    "Get gain more intuition on our basis functions, let's visualize the basis functions!\n",
    "We will need the following steps:\n",
    "\n",
    "* Install avogadro for your computer (virual machine or personal)\n",
    "* Generate the orbital file 'H2_basis.out' via the function **qworld.create_Orbital_file()**, code below.\n",
    "* Open avogadro and proceed to open the orbital file 'H2_basis.out'\n",
    "* Click on the various orbitals to looks at their iso-surfaces.\n",
    "\n",
    "\n",
    "We will use the software avogadro to visualize the orbitals:\n",
    "[![](files/avogadro.png)](http://avogadro.cc/wiki/Main_Page)\n",
    "(click to go to the website)\n",
    "You can visualize them from your computer (faster) of from your virtual machine, by running the following command in your terminal:\n",
    "```\n",
    "sudo apt-get install avogadro\n",
    "```\n",
    "it will prompt you for the password and proceed to download the software which can be run from the applications menu.\n",
    "\n",
    "<br>\n",
    "### Extra-info on orbitals\n",
    "For some background, an orbital (atomic or molecular) is a 3D scalar field, tha means it is a function $f$ that for each $r=(x,y,z)$ coordinate we have a real number indicating the energy in that specific coordinate. In this case we are visualizing the orbitals associated to the basis functions $\\phi_i$, the $i-th$ orbital is:\n",
    "$$\n",
    "f_i(r) = \\phi_i (r)\n",
    "$$\n",
    "\n",
    "Visualizing this is hard since we would need 4 dimensions (3 spatial + 1 energy), so a common way is to use an **iso-surface**, where for a particular value ($\\lambda$) a point $r$ is on our surface if $|f(r)|=\\lambda$. So basically we visualize all the points that have the same value, this gives us an idea of the shape of the orbital.\n",
    "\n",
    "In our case, you might see blue and red orbitals, blue indicates the negative isosurface $f(r)=-\\lambda$ and red  indicates the positive isosurface $f(r)=\\lambda$.\n",
    "\n",
    "Also note we will use an identity matrix to get the atomic orbitals, since these are exactly our basis functions.\n",
    "\n",
    "#### Just run the following code, this will make more sense in exercise 5"
   ]
  },
  {
   "cell_type": "code",
   "execution_count": null,
   "metadata": {
    "collapsed": true
   },
   "outputs": [],
   "source": [
    "# default basis set\n",
    "basis_set='6-31G**' \n",
    "# identity matrix\n",
    "C = np.eye(len(test_fns))\n",
    "# orbital energies, does not matter\n",
    "orb_e = -1*np.arange(len(test_fns),0,-1)\n",
    "# create the orbital file\n",
    "qworld.create_Orbital_file('H2_basis',mol,basis_set,C,orb_e)"
   ]
  },
  {
   "cell_type": "markdown",
   "metadata": {},
   "source": [
    "Open the orbital file generated above in Avogadro. (If you downloaded Avogadro in your virtual machine, it will be in the Applications/Education folder) \n",
    "\n",
    "![](files/MO_viewer.png)\n",
    "\n",
    "where you can click on multiple orbitals labeled as **HOMO, LUMO, LUMO+1, LUMO+2 ..**, the labelling is not accurate in this case, but what is important is to identify which basis sets functions correspond to which type of orbitals we are using to solve our molecular system.\n",
    "\n",
    "If for whatever reason the molecular orbitals menu does not pop up, you open it by going to **Extensions > Molecular Orbitals...** in the main program menu.\n"
   ]
  },
  {
   "cell_type": "markdown",
   "metadata": {},
   "source": [
    "## Test sets\n",
    "\n",
    "Finally, we're going to import the known answers for the methods below so that you can check yourself if your methods are producing the correct results. For this you will need to compare the matrices you generate with the ones we provide.\n",
    "\n",
    "There are multiple ways of checking if two matrices are close enough, you can compare individual entries, subtract them and take a matrix norm...or there might just a be a numpy function that checks if two arrays are close enough .... check the documentation of the function **numpy.allclose**, and use it for the comparison.\n",
    "\n",
    "If your method fails to give the right answer, stop and debug immediately! All the answers in exercise 3 to 6 depends on the accuracy of your methods. Make sure to get them right."
   ]
  },
  {
   "cell_type": "code",
   "execution_count": null,
   "metadata": {
    "collapsed": false
   },
   "outputs": [],
   "source": [
    "# Load tests:\n",
    "S_exact = np.load('files/S_exact.npy')\n",
    "T_exact = np.load('files/T_exact.npy')\n",
    "V_exact = np.load('files/V_exact.npy')\n",
    "G_exact = np.load('files/G_exact.npy')\n",
    "rho_exact = np.load('files/rho_exact.npy')\n",
    "eri_Exact = np.load('files/eri_exact.npy')"
   ]
  },
  {
   "cell_type": "markdown",
   "metadata": {},
   "source": [
    "## 1.a) - The Overlap Matrix"
   ]
  },
  {
   "cell_type": "markdown",
   "metadata": {},
   "source": [
    "We're going to start off easy. First, we're going to write a function to build the overlap matrix. However, there are a few things to note before we get started. Because we're using the PyQuante definition of the basis, we have a built-in overlap function that can be accessed via:\n",
    "```python\n",
    "bfns[i].overlap(bfns[j])\n",
    "```\n",
    "Said more explicitly, the code above gives you the overlap of a basis function indexed by $i$ with another basis function indexed by $j$.\n",
    "\n",
    "Given this, we want to define an array, S, of size $N_{bfs} \\times N_{bfs}$ and fill each $i,j$ element with the overlap of each basis function $i$ with the basis function $j$. Note, to find the number of basis functions you just need to do this: \n",
    "```python\n",
    "num_bfns = len(bfns)\n",
    "```\n",
    "\n",
    "We want a function called **S_builder** that takes as inputs the basis functions **bfns** and returns the overlap matrix **S** :\n"
   ]
  },
  {
   "cell_type": "code",
   "execution_count": null,
   "metadata": {
    "collapsed": false
   },
   "outputs": [],
   "source": [
    "def S_builder(bfns):\n",
    "\n",
    "    return S"
   ]
  },
  {
   "cell_type": "markdown",
   "metadata": {},
   "source": [
    "Compare your matrix with the S matrix provided for comparison. Recall that the basis set function we are using for testing is test_fns, that we defined above for the hydrogen molecule."
   ]
  },
  {
   "cell_type": "code",
   "execution_count": null,
   "metadata": {
    "collapsed": false
   },
   "outputs": [],
   "source": [
    "#fill in basis set\n",
    "S = S_builder()\n",
    "print(\"S is the same? \",np.allclose(S,S_exact))"
   ]
  },
  {
   "cell_type": "markdown",
   "metadata": {},
   "source": [
    "### <i class=\"fa fa-line-chart\"></i> Visualize $S$\n",
    "Use **imshow** to plot matrices, we also have the utility function \n",
    "**qworld.orbital_index(mol, basis_set)** which returns a formated list of strings that contain information on each basis set in the following way:\n",
    "$$\n",
    "{Atom}_{Atom\\;n},\\; {Symmetry}_{Axis}\\quad e.g. \\quad {H}_{2},\\; {P}_{X}\n",
    "$$\n",
    "represents the basis function centered on the **2-nd** **H**ydrogen atom and they basis function is a Atomic Orbital of type **P** on the **x** axis."
   ]
  },
  {
   "cell_type": "code",
   "execution_count": null,
   "metadata": {
    "collapsed": false
   },
   "outputs": [],
   "source": [
    "plt.figure(figsize=(12,12))\n",
    "plt.imshow(S,interpolation='nearest')\n",
    "plt.colorbar()\n",
    "plt.xlabel('Index')\n",
    "plt.ylabel('Index')\n",
    "basis_labels = qworld.orbital_index(mol, basis_set)\n",
    "plt.xticks(range(len(test_fns)),basis_labels)\n",
    "plt.yticks(range(len(test_fns)),basis_labels)\n",
    "plt.show()"
   ]
  },
  {
   "cell_type": "markdown",
   "metadata": {},
   "source": [
    "### <i class=\"fa fa-question-circle\"></i> Questions <br> What do you notice about the diagonal entries?<br>Which orbitals overlap with which other orbitals?<br> Is there any pattern that you notice with respect to the quantum numbers? <br>What does this say about the basis?"
   ]
  },
  {
   "cell_type": "markdown",
   "metadata": {},
   "source": [
    "** Place your answer here**\n",
    "\n"
   ]
  },
  {
   "cell_type": "markdown",
   "metadata": {},
   "source": [
    "## 1.b) The Kinetic Energy Matrix $T$ (an element in $H_{core}$)"
   ]
  },
  {
   "cell_type": "markdown",
   "metadata": {},
   "source": [
    "The next thing that we're going to do is populate the kinetic energy matrix. We'll want to define an array, $T$, of size $N_{bfs} \\times N_{bfs}$ and fill each $i,j$ element with the kinetic energy matrix element between each basis function $i,j$. \n",
    "\n",
    "Thankfully Pyquante has our backs, the kinetic energy integral between two basis sets can be obtained as:\n",
    "```python\n",
    "bfns[i].kinetic(bfns[j])\n",
    "```\n",
    "We want a function called **T_builder** that takes as inputs the basis functions **bfns** and returns the kinetic matrix **T** :"
   ]
  },
  {
   "cell_type": "code",
   "execution_count": null,
   "metadata": {
    "collapsed": false
   },
   "outputs": [],
   "source": [
    "def T_builder(bfns):\n",
    "\n",
    "    return T"
   ]
  },
  {
   "cell_type": "markdown",
   "metadata": {},
   "source": [
    "and test ..."
   ]
  },
  {
   "cell_type": "code",
   "execution_count": null,
   "metadata": {
    "collapsed": false
   },
   "outputs": [],
   "source": [
    "#fill in basis set\n",
    "T = T_builder()\n",
    "print(\"T is the same? \",np.allclose(T,T_exact))"
   ]
  },
  {
   "cell_type": "markdown",
   "metadata": {},
   "source": [
    "### <i class=\"fa fa-line-chart\"></i> Visualize $T$"
   ]
  },
  {
   "cell_type": "code",
   "execution_count": null,
   "metadata": {
    "collapsed": false
   },
   "outputs": [],
   "source": [
    "plt.figure(figsize=(12,12))\n",
    "plt.imshow(T,interpolation='nearest')\n",
    "plt.colorbar()\n",
    "plt.xlabel('Index')\n",
    "plt.ylabel('Index')\n",
    "basis_labels = qworld.orbital_index(mol, basis_set)\n",
    "plt.xticks(range(len(test_fns)),basis_labels)\n",
    "plt.yticks(range(len(test_fns)),basis_labels)\n",
    "plt.show()"
   ]
  },
  {
   "cell_type": "markdown",
   "metadata": {},
   "source": [
    "## 1.c) One Electron Potential (an element in $H_{core}$)"
   ]
  },
  {
   "cell_type": "markdown",
   "metadata": {},
   "source": [
    "The next thing we want to do is to populate the nuclear potential energy matrix.\n",
    "\n",
    "We'll want to define an array, $V$, of size $N_{bfs} \\times N_{bfs}$ and fill each $i,j$ element with the expectation value of potential energy between basis function $i$ and the basis function $j$. \n",
    "\n",
    "Keep in mind, the nuclear electron interaction should be a **sum** of nuclear contribution over all the atoms in the **molecule**. The nuclear potential energy integral is given by the built-in:\n",
    "```python\n",
    "bfns[i].nuclear(bfns[j], atom.pos())\n",
    "```\n",
    "and you need to **multiply** the nuclear integral by the nuclear charge, $Z$, which is found from the atom list via:\n",
    "```python\n",
    "atom.atno\n",
    "```\n",
    "\n",
    "Make a function called **V_builder** that takes as inputs the basis functions **bfns** and molecule **molecule**, and returns the one-body potential matrix **V** :"
   ]
  },
  {
   "cell_type": "code",
   "execution_count": null,
   "metadata": {
    "collapsed": false
   },
   "outputs": [],
   "source": [
    "def V_builder(bfns, molecule):\n",
    "    #build \"for loops\" to evaluate potential for all basis functions i and j \n",
    "   \n",
    "\n",
    "    #also make sure you account for the Coulomb attractions from all the atoms in the molecule\n",
    "            for atom in molecule:\n",
    "\n",
    "    return V"
   ]
  },
  {
   "cell_type": "markdown",
   "metadata": {},
   "source": [
    "and test again. Recall that the collection of atoms we are using as example is the h2 molecule defined above:"
   ]
  },
  {
   "cell_type": "code",
   "execution_count": null,
   "metadata": {
    "collapsed": false
   },
   "outputs": [],
   "source": [
    "#fill in basis function and the molecule of interest\n",
    "V = V_builder()\n",
    "print(\"V is the same? \",np.allclose(V,V_exact))"
   ]
  },
  {
   "cell_type": "markdown",
   "metadata": {},
   "source": [
    "### <i class=\"fa fa-line-chart\"></i> Visualize $V$\n",
    "Rinse and repeat..."
   ]
  },
  {
   "cell_type": "code",
   "execution_count": null,
   "metadata": {
    "collapsed": false
   },
   "outputs": [],
   "source": [
    "plt.figure(figsize=(12,12))\n",
    "plt.imshow(V,interpolation='nearest')\n",
    "plt.colorbar()\n",
    "plt.xlabel('Index')\n",
    "plt.ylabel('Index')\n",
    "basis_labels = qworld.orbital_index(mol, basis_set)\n",
    "plt.xticks(range(len(test_fns)),basis_labels)\n",
    "plt.yticks(range(len(test_fns)),basis_labels)\n",
    "plt.show()"
   ]
  },
  {
   "cell_type": "markdown",
   "metadata": {},
   "source": [
    "### <i class=\"fa fa-question-circle\"></i> Questions <br> Do you notice a pattern with respect to any of the previous matrices?\n",
    "\n"
   ]
  },
  {
   "cell_type": "markdown",
   "metadata": {},
   "source": [
    "** Answer here **\n",
    " "
   ]
  },
  {
   "cell_type": "markdown",
   "metadata": {},
   "source": [
    "## 1.d) $H_{core}$\n",
    "\n",
    "Build the core (1 electron) Hamiltonian by adding the kinetic and 1-electron potential operators. From there, diagonalize **H_core** and obtain the corresponding eigenvalues and eigenvectors, which corresponds to the initial guess for the energies and the orbitals, respectively.\n",
    "\n",
    "After you diagonalize **H_core** you will need to perform two more steps. Because the basis functions here are nonorthogonal (i.e. the overlap matrix is non-diagonal), you will need a special matrix $X$ to convert the non-orthogonal basis to an orthogonal one. \n",
    "\n",
    "To get the the transformation matrix $X$ you can use **symmetric_orthogonalization** function from the qworld library. \n",
    "```python \n",
    "X, SS = qworld.symmetric_orthogonalization(S)\n",
    "```\n",
    "where S is the overlap matrix you already calculated. Don't worry about the $SS$, this is just the new overlap matrix, you won't need to use it. After you get $X$, use it to obtain the orthonormal orbitals by multiplying the eigenvectors you already have get by the transpose of $X$: \n",
    "\n",
    "$$C_{orthogonal}=X^T C_{non-orthogonal}$$\n",
    "$$C_{non-orthogonal}=X C_{orthogonal}$$\n",
    "\n",
    "$C_{orthogonal}$ will correspond to your initial guess for the orbitals."
   ]
  },
  {
   "cell_type": "code",
   "execution_count": null,
   "metadata": {
    "collapsed": false
   },
   "outputs": [],
   "source": []
  },
  {
   "cell_type": "markdown",
   "metadata": {},
   "source": [
    "## 1.e) Two Electron Integrals or <br> Electron Repulsion Integrals (ERI)\n",
    "Next, we're going to write a function that populates an array with all the 2-electron integrals that compute the Coulomb and Exchange energies between pairs of orbitals. \n",
    "\n",
    "We need 4 indices to store the information. This will give a 4-tensor, i.e. a multi-dimensional matrix. Don't panic! It sounds more complicated than it is.\n",
    "\n",
    "Because these integrals are very computationally intensive and used quite a bit throughout the code, we're going to compute them when we start our computation and then just use them over and over. The integrals that we're going to compute are of the form:\n",
    "\n",
    "$$ ERI_{ijkl}=\\left( ij \\,|\\, kl \\right) = \\int \\phi_i(r_1) \\phi_j(r_1) \\frac{1}{r_{12}} \\phi_k(r_2) \\phi_l(r_2) \\;dr_1 dr_2$$\n",
    "\n",
    "These integrals have an 8 fold permutational symmetry such that $(ij\\,|\\,kl) = (ji\\,|\\,kl) = (ij\\,|\\,lk) = (ji\\,|\\,lk) = (kl\\,|\\,ij) = (lk\\,|\\,ij) = (kl\\,|\\,ji) = (lk\\,|\\,ji).$ We could reduce our storage cost by almost an order of magnitude (i.e. the difference between 1GB memory and 8 GBs) in an 1D array by using efficient index techniques. However, it's a bit tricky to construct, and therefore we will forgo this idea and go with the more intuitive \"brute-force\" approach:\n",
    "\n",
    "\n",
    "Create a $N_{bfs} \\times N_{bfs} \\times N_{bfs} \\times N_{bfs}$ tensor of zeroes and fill each value using the Pyquante function **coulomb(bfn_i,bfn_j,bfn_k,bfn_l)**.\n",
    "\n",
    "\n",
    "Make a function called **twoElectronInts** that takes as inputs the basis functions **bfns** and returns the integral matrix **eri** :"
   ]
  },
  {
   "cell_type": "code",
   "execution_count": null,
   "metadata": {
    "collapsed": false
   },
   "outputs": [],
   "source": [
    "from PyQuante.Ints import coulomb\n",
    "\n",
    "def twoElectronInts(bfns):\n",
    "\n",
    "    return eri"
   ]
  },
  {
   "cell_type": "code",
   "execution_count": null,
   "metadata": {
    "collapsed": false
   },
   "outputs": [],
   "source": [
    "#fill in basis function\n",
    "eri = twoElectronInts()\n",
    "print(\"Matrices are the same? \",np.allclose(eri,eri_Exact))\n",
    "print(np.linalg.norm(eri-eri_Exact))"
   ]
  },
  {
   "cell_type": "markdown",
   "metadata": {},
   "source": [
    "## 1.g) [Charge] Density Matrix and Orbitals\n",
    "\n",
    "\n",
    "Next, we need a way to build the charge density matrix that\n",
    "represents where the electrons are in the molecule. \n",
    "\n",
    "The density matrix, $\\rho$, is given by an outer product:\n",
    "\n",
    "$$\\rho = | \\psi \\rangle \\langle \\psi |, \\quad \\text{with } \\psi  \\text{ expanded in the orbitals as } \\psi = \\sum_k c_k \\phi_k(r).$$\n",
    "\n",
    "This can be simplified in terms of matrices. Apply Hund's rule, we are only considering the occupied orbitals. Define the matrix $C$ as the **orbital expansion coefficients** and restrict to the occupied orbitals. The density matrix would be:\n",
    "$$\n",
    "C C^T\n",
    "$$\n",
    "\n",
    "**Hints:** Build $C$ in python using slicing notation:\n",
    "```python\n",
    "orbitals[:, 0:nocc]\n",
    "```\n",
    "You will need to look up how to transpose and multiply matrices (or arrays).\n",
    "\n",
    "Also, to extract the number of occupied and unoccupied orbitals, you can use **get_closedopen()** by the following syntax:\n",
    "```python\n",
    "nocc, nopen = molecule.get_closedopen()\n",
    "```"
   ]
  },
  {
   "cell_type": "code",
   "execution_count": null,
   "metadata": {
    "collapsed": false
   },
   "outputs": [],
   "source": [
    "def makeDensityMatrix(orbitals, nocc):\n",
    "\n",
    "    return rho"
   ]
  },
  {
   "cell_type": "code",
   "execution_count": null,
   "metadata": {
    "collapsed": true
   },
   "outputs": [],
   "source": [
    "D="
   ]
  },
  {
   "cell_type": "code",
   "execution_count": null,
   "metadata": {
    "collapsed": false
   },
   "outputs": [],
   "source": [
    "print(\"Matrices are the same? \",np.allclose(D,rho_exact))\n",
    "print(np.linalg.norm(D-rho_exact))"
   ]
  },
  {
   "cell_type": "markdown",
   "metadata": {},
   "source": [
    "## 1.f) Two-Electron Hamiltonian\n",
    "\n",
    "We're going to build the two electron part of the Hartree-Fock hamiltonian, called G. \n",
    "\n",
    "The formula of each matrix element is:\n",
    "\n",
    "$$ G = \\sum_{k}\\sum_{l} \\rho_{k,l} \\left( 2 J_{k,l}- K_{k,l}  \\right ) $$\n",
    "\n",
    "The formula of each matrix element is:\n",
    "\n",
    "$$G_{ij}= \\sum_{k}\\sum_{l}  \\rho_{kl} \\left( 2 ( ij | kl ) - (  i k | j l ) \\right ) $$ \n",
    "\n",
    "\n",
    "\n",
    "There are many ways of perfoming this operations, via for-loops, or by matrix multiplications.\n",
    "\n",
    "You should use the Hermiticity property to set $G_{ji}$ equal to $G_{ij}$ to save half the operations.\n",
    "\n",
    "This should be a function called **G_builder** that receive as inputs the integral matrix **eri**, and the density matrix **rho** and returns the two electron hamiltonian matrix $G$"
   ]
  },
  {
   "cell_type": "code",
   "execution_count": 2,
   "metadata": {
    "collapsed": false
   },
   "outputs": [],
   "source": [
    "def G_builder(eri, rho):\n",
    "\n",
    "\n",
    "    return G"
   ]
  },
  {
   "cell_type": "markdown",
   "metadata": {},
   "source": [
    "Now compare with the G matrix we gave you to verify your result:"
   ]
  },
  {
   "cell_type": "code",
   "execution_count": null,
   "metadata": {
    "collapsed": false
   },
   "outputs": [],
   "source": [
    "G =  G_builder()\n",
    "print(\"Matrices are the same? \",np.allclose(G,G_exact))\n",
    "print(np.linalg.norm(G-G_exact))"
   ]
  },
  {
   "cell_type": "markdown",
   "metadata": {},
   "source": [
    "Next, we're going to write a function to compute the energy. The formula is given by:\n",
    "\n",
    "$$ E = \\sum_i \\sum_j \\left( H^{core}_{ij} + F_{ij} \\right) \\rho_{ij} + E_{nuc}$$\n",
    "\n",
    "One way to to do this double sum is to use doubly **np.sum**.\n",
    "\n",
    "And remember to add on the nuclear energy!"
   ]
  },
  {
   "cell_type": "code",
   "execution_count": null,
   "metadata": {
    "collapsed": false
   },
   "outputs": [],
   "source": [
    "def get_energy(hcore, F, rho, enuke=0):\n",
    "\n",
    "    return E"
   ]
  },
  {
   "cell_type": "markdown",
   "metadata": {},
   "source": [
    "# <i class=\"fa fa-check-circle-o\"></i> Exercise 2: <br> Hartree-Fock\n",
    "### Piece by Piece...getting there\n",
    "\n",
    "In this part, you will create the Hartree-Fock method using all the helper functions you wrote above! \n",
    "\n",
    "Ultimately, all of the steps you write below will go into a method called **hf**. Here, we are walking you through writing a few lines at a time so you can understand it better. \n",
    "\n",
    "First, you will use the h2 molecule created in the previous exercise as a test system.\n",
    "\n",
    "The steps for the Hartree-Fock algorithm are nicely simplified in this flowchart (Do you see where the loop is?)\n",
    "\n",
    "[![hf](files/HF_algo.png)](https://en.wikipedia.org/wiki/Hartree%E2%80%93Fock_method)"
   ]
  },
  {
   "cell_type": "markdown",
   "metadata": {},
   "source": [
    "## Step 1: Get molecular information.\n",
    "\n",
    "Let's begin by retrieving the number of occupied and open orbitals (nocc, nopen), the basis functions, the nuclear energy, and the integrals for the h2 molecule of exercise 1. Note, you did all of these before in the previous exercise.\n",
    "\n",
    "For the nuclear repulsion energy you can use the PyQuant built-in:  **mol.get_enuke()**"
   ]
  },
  {
   "cell_type": "code",
   "execution_count": null,
   "metadata": {
    "collapsed": false
   },
   "outputs": [],
   "source": []
  },
  {
   "cell_type": "markdown",
   "metadata": {},
   "source": [
    "## Step 2: Get one electron matrices."
   ]
  },
  {
   "cell_type": "markdown",
   "metadata": {},
   "source": [
    "Next, we need to build the various one electron matrices, $S$,$T$, $V$, and $H^{core}$.\n",
    "\n",
    "You'll want to use the helper functions you wrote above in exercise 1."
   ]
  },
  {
   "cell_type": "code",
   "execution_count": null,
   "metadata": {
    "collapsed": false
   },
   "outputs": [],
   "source": []
  },
  {
   "cell_type": "markdown",
   "metadata": {},
   "source": [
    "## Step 3: Make an initial guess for HF"
   ]
  },
  {
   "cell_type": "markdown",
   "metadata": {},
   "source": [
    "Next, we need to generate an initial guess for the SCF loop. \n",
    "\n",
    "<br>\n",
    "#### Convergence parameters: \n",
    "Define a convergence criterion **CONV_CRITERIA** of $10^{-4}$ for the energy. If the difference between the energy in the previous iteration of the algorithm and the current iteration is less than the convergence criteria the loop will stop; this is what convergences means in this context. However the energy might never converges and the loop will keep going forever. To prevent this, we need to define a maximum number of iterations **MAX_ITER**. Make it 30 for now.\n",
    "\n",
    "Also, initialize two variables called **e_old** and **nIter** as zero.  Save the energy from previous iteration of the algorithm in **e_old**. Use **nIter** to keep track of the number of iterations."
   ]
  },
  {
   "cell_type": "code",
   "execution_count": null,
   "metadata": {
    "collapsed": true
   },
   "outputs": [],
   "source": [
    "# Initial parameters\n"
   ]
  },
  {
   "cell_type": "markdown",
   "metadata": {},
   "source": [
    "#### initial Orbitals, Density, ERI and $E_{nuke}$\n",
    "\n",
    "The first step is to make an  initial guess of the orbitals. There are many ways to pick these, we suggest to use the \"orbitals\" of the H_core Hamiltonian. The main idea behind computing each step is listed here:\n",
    "\n",
    "* **Orbitals**: basically from diagonalizing $H$. After diagonalizing H, you will transform them to an orthogonal basis by multiplying $X$, i.e. $C_{orthogonal}=X^T C_{non-orthogonal}$. You can get $X$ from the **symmetric_orthogonalization** function from the qworld library and apply to the overlap matrix $S$. You did this already in step 1.d.\n",
    "* **Density**: from the orbitals in the orthogonal basis, calculate the density.\n",
    "* **ERI**: you have them before and will not have to compute them again.\n",
    "* **Nuclear Energy**: remember molecule.get_enuke()?"
   ]
  },
  {
   "cell_type": "code",
   "execution_count": null,
   "metadata": {
    "collapsed": false
   },
   "outputs": [],
   "source": [
    "#build overlap\n",
    "\n",
    "# orthogonalize S\n",
    "\n",
    "#build H\n",
    "\n",
    "# create guess orbitals\n",
    "\n",
    "# Guess density\n",
    "\n",
    "# Guess ERI\n",
    "\n",
    "# enuke\n"
   ]
  },
  {
   "cell_type": "markdown",
   "metadata": {},
   "source": [
    "## Step 4: <br>Build the self-consistent-field (SCF) loop."
   ]
  },
  {
   "cell_type": "markdown",
   "metadata": {},
   "source": [
    "Next, write a for-loop over the variable **nIter** in the range from 0 to **MAX_ITER**.\n",
    "\n",
    "Within this loop, you'll want to \n",
    "\n",
    "\n",
    "\n",
    "1. Construct $G$ (use the inital guess orbitals obtained in step 3)\n",
    "2. Construct the Fock matrix, $F$.\n",
    "3. Compute the energy using the **get_energy** method you wrote above\n",
    "4. Transform  your Fock matrix to the orthogonal basis set via $F^\\prime = X^T F X$\n",
    "5. Diagonalize your new Fock matrix $F^\\prime$, which will give you the orbital energies and new molecular orbital Coeficients $C$\n",
    "6. Transform back your molecular orbital Coeficients from orthogonal basis set to non-orthogonal via $C^\\prime = X C$\n",
    "7. Calculate a new density matrix $\\rho$\n",
    "8. Communicate the progress in this current interation:\n",
    "```python \n",
    "e_diff = np.abs(energy - e_old)\n",
    "print (\"Iteration Number %i, Energy = %f, EnergyVar = %f\"%(nIter+1, energy, e_diff )) \n",
    "```\n",
    "9. Test if the absolute value of the difference between your energy computed above and the old energy is less than the convergence criteria . If true, break. This will exits from the loop. The syntax for a break is the following:\n",
    "```python \n",
    "if (condition):\n",
    "    break\n",
    "```\n",
    "10. Set your old energy equal to your current energy.\n"
   ]
  },
  {
   "cell_type": "code",
   "execution_count": null,
   "metadata": {
    "collapsed": false
   },
   "outputs": [],
   "source": []
  },
  {
   "cell_type": "markdown",
   "metadata": {},
   "source": [
    "Did you get the following?\n",
    "```python \n",
    "Iteration number 1, energy = -1.118203, energyvar = 1.118203\n",
    "Iteration number 2, energy = -1.131112, energyvar = 0.012910\n",
    "Iteration number 3, energy = -1.131282, energyvar = 0.000170\n",
    "```\n",
    "\n",
    "If so, it worked! Congragulations. If you don't have exactly the same but you are getting the same final energy it might be OK. Verify with us. <br>"
   ]
  },
  {
   "cell_type": "markdown",
   "metadata": {},
   "source": [
    "## Step 5: Combine all the previous steps.\n",
    "\n",
    "Next, we're going to put together the three boxes of code that you wrote into one big method called **hf(molecule,basis)**.\n",
    "\n",
    "One thing to remember is that the **hf** method should be written to work with a general molecule, so you'll want to change all the **h2** references to **molecule**. This way, it'll work for any molecule that you pass in. The function must output **energy**, **orb_energies** and **orbitals (in orthogonal basis)** in that order."
   ]
  },
  {
   "cell_type": "code",
   "execution_count": null,
   "metadata": {
    "collapsed": false,
    "scrolled": true
   },
   "outputs": [],
   "source": [
    "def hf(molecule, basis = None, Verbose = True):\n",
    "    # check for basis function string\n",
    "    if basis == None:\n",
    "        basis_functions = Ints.getbasis(molecule)\n",
    "    else:\n",
    "        basis_functions = Ints.getbasis(molecule, basis)\n",
    "    # Code here\n",
    "        \n",
    "        \n",
    "        \n",
    "    # algorithm termination messages    \n",
    "    if (nIter+1) < MAX_ITER:\n",
    "        if Verbose:\n",
    "            print \"Converged in %i iterations\"%(nIter+1)\n",
    "    else:\n",
    "        if Verbose:\n",
    "            print(\"Max iterations reached :(\")\n",
    "    if Verbose:\n",
    "        print \"Final Hartree Fock Energy for %s is %f\"%(molecule.name, energy)\n",
    "    \n",
    "    return energy, orb_energies, C"
   ]
  },
  {
   "cell_type": "markdown",
   "metadata": {},
   "source": [
    "Now, let's check to make sure that the method you wrote above gives the same answer as before. Run the box below. If it works, you should see your calculation converge to the following Hartree Fock Energy:\n",
    "```python \n",
    "\n",
    "Iteration number 1, energy = -1.118203, energyvar = 1.118203\n",
    "Iteration number 2, energy = -1.131112, energyvar = 0.012910\n",
    "Iteration number 3, energy = -1.131282, energyvar = 0.000170\n",
    "Converged in 3 iterations\n",
    "Final Hartree Fock Energy for h2 is -1.131282\n",
    "```\n",
    "Test it:"
   ]
  },
  {
   "cell_type": "code",
   "execution_count": null,
   "metadata": {
    "collapsed": false
   },
   "outputs": [],
   "source": [
    "mol = Molecule('h2',\n",
    "          atomlist = [(1,(0.,0., 0.0)),(1,(0.,0., -1.4))],\n",
    "          units = 'Bohr')\n",
    "energy, orb_energies, orbitals = hf(mol)"
   ]
  },
  {
   "cell_type": "markdown",
   "metadata": {},
   "source": [
    "### <i class=\"fa fa-question-circle\"></i> Are they equal?<br> If so, congratulations! You win a cake* <i class=\"fa fa-birthday-cake\"></i> \n",
    "<font size=\"1\">* icon</font>\n"
   ]
  },
  {
   "cell_type": "markdown",
   "metadata": {},
   "source": [
    "# <i class=\"fa fa-smile-o\"></i> Exercise 3-6: <br> Now let's do some chemistry! <i class=\"fa fa-flask\"></i>\n"
   ]
  },
  {
   "cell_type": "markdown",
   "metadata": {},
   "source": [
    "### Obtaining 3D geometries for molecules\n",
    "\n",
    "#### Computational Chemistry Comparison and Benchmark DataBase\n",
    "[![](files/cccbdb_logosmall.gif)](http://cccbdb.nist.gov/)\n",
    "Visit [http://cccbdb.nist.gov/](http://cccbdb.nist.gov/) or click the icon.\n",
    "Here you can find experimental and theoretical values for multiple molecules.\n",
    "\n",
    "Or google the molecule you are interested, you will be surprised in to what you might find.\n",
    "\n",
    "Many times you can find the geometry in 3D coordinates in the form of a xyz file or you can also use Avogadro to build a molecule!\n"
   ]
  },
  {
   "cell_type": "markdown",
   "metadata": {},
   "source": [
    "# <i class=\"fa fa-check-circle-o\"></i> Exercise 3: <br> The Dissociation Curve <br> of the Hydrogen Molecule\n",
    "\n",
    "You are going to find the equilibrium bond distance for the $H_2$ using the Hartree-Fock method that you just wrote. If you are interested, compare with the experimental value which you could search in literature.\n",
    "\n",
    "The easiest way to do this is to create an array of radii and loop through it. At every point in the loop, you should make a new geometry for hydrogen and then compute the Hartree-Fock energy.\n",
    "\n",
    "Finally we will compare with the EXACT* PES. \n",
    "\n",
    "<font size=\"1\">* Almost</font>\n"
   ]
  },
  {
   "cell_type": "markdown",
   "metadata": {},
   "source": [
    "## Geometry Optimization\n",
    "With this in hand, find the radius that corresponds to the minimum energy. (Calculation may takes some time, be patient!)\n",
    "### What is it?"
   ]
  },
  {
   "cell_type": "code",
   "execution_count": null,
   "metadata": {
    "collapsed": false
   },
   "outputs": [],
   "source": []
  },
  {
   "cell_type": "markdown",
   "metadata": {},
   "source": [
    "## <i class=\"fa fa-line-chart\"></i> Plot the dissociation curve of $H_2$"
   ]
  },
  {
   "cell_type": "code",
   "execution_count": null,
   "metadata": {
    "collapsed": false
   },
   "outputs": [],
   "source": [
    "plt.plot(R,energy_array)\n",
    "plt.title('Dissociation Curve for $H_2$')\n",
    "plt.xlabel('Internuclear Distance [au]')\n",
    "plt.ylabel('Energy [au]')\n",
    "plt.show()"
   ]
  },
  {
   "cell_type": "markdown",
   "metadata": {},
   "source": [
    "## Compare with FULLCI/cc-VQZ\n",
    "\n",
    "We have run a similar PES using a high level theory. You can load this data  via the code:\n",
    "```\n",
    "data = np.loadtxt('files/H2_fullci.dat')\n",
    "```\n",
    ", data will be a $ n \\times 2$ matrix where the first column is the $R$ value and the second column is the energy value $E_{FULLCI/cc-VQZ}$.\n",
    "\n",
    "As we have seen briefly, FULLCI (Full Configuration Interaction) is an almost exact level of theory that scales factorially, so it is only possible to calculate for small systems (< 14 electrons)..but gives almost exact values, the exact part also requires an infinite basis set, here we used cc-VQZ which is an EXTREMELY big and accurate basis set for just 2 hydrogen atoms (20 basis functions, some are P,D and F orbitals!)...so you can be certain that these energy values are the EXACT value.\n",
    "\n",
    "### Plot both PES superimposed"
   ]
  },
  {
   "cell_type": "code",
   "execution_count": null,
   "metadata": {
    "collapsed": true
   },
   "outputs": [],
   "source": []
  },
  {
   "cell_type": "markdown",
   "metadata": {},
   "source": [
    "You should get something like this:\n",
    "![](files/H2_dissociation.png)"
   ]
  },
  {
   "cell_type": "markdown",
   "metadata": {},
   "source": [
    "### Electron Corelation energy\n",
    "Since Hartree-fock is the baseline for any normal wavefunction calculation, the difference between the exact energy and the hartree fock aproximation is called *Electron Corelation energy*, all post-HF methods are trying to recover this missing energy:\n",
    "\n",
    "$$E_{Cor} = E_{Exact} - E_{HF}$$ \n",
    "(Hint, Hint: Why is it called electron corelation?)\n",
    "<br> \n",
    "\n",
    "### <i class=\"fa fa-question-circle\"></i> Questions  <br> What differences do you see between the two PESs?<br> Why is Hartree Fock not exact? What is missing? <br> How large is the correlation energy (%) at the equilibrium points?<br> Do they have the same equilibrium bond distance?"
   ]
  },
  {
   "cell_type": "markdown",
   "metadata": {},
   "source": [
    "Answer here"
   ]
  },
  {
   "cell_type": "markdown",
   "metadata": {},
   "source": [
    "# <i class=\"fa fa-check-circle-o\"></i> Exercise 4: <br> HF Minimum Hydrogen Angle <i class=\"fa fa-angle-left\"></i> for Water <i class=\"fa fa-drupal\"></i>\n",
    "\n",
    "![](files/Water_geom.png)\n",
    "\n",
    "You are going to find the equilibrium bond angle for water using the Hartree-Fock method that we just wrote and compare with the experimental value of 104.5 degrees. \n",
    "\n",
    "The easiest way to do this is to create an array of angles and loop through it. Call this array **theta**. At every point in the loop, you should make a new geometry for water as a function of angle and then compute the Hartree-Fock energy. \n",
    "\n",
    "Keep in mind that numpy's sine and cosine functions expect radians, so first set up the grid in radians and then convert to degrees at the end. Save the energies for different values of $\\theta$ in an array called **energy_list**.\n",
    "\n",
    "With those two arrays you can use the plotting code we give below.\n",
    "\n",
    "## Calculate those energies \n",
    "Calculations may take some time, be paiteint!\n",
    "Also, you could start with only a few points to make sure the calculation is correct."
   ]
  },
  {
   "cell_type": "code",
   "execution_count": null,
   "metadata": {
    "collapsed": true
   },
   "outputs": [],
   "source": [
    "\n",
    "\n",
    "print(\"Minimum at angle: %2.3f\"%(theta[np.argmin(energy_list)]*180.0/np.pi))"
   ]
  },
  {
   "cell_type": "markdown",
   "metadata": {},
   "source": [
    "## <i class=\"fa fa-line-chart\"></i> Plot $E(\\theta)$"
   ]
  },
  {
   "cell_type": "code",
   "execution_count": null,
   "metadata": {
    "collapsed": false
   },
   "outputs": [],
   "source": [
    "plt.plot(theta*180.0/np.pi,energy_list)\n",
    "plt.title('Energy of water as a function of angle')\n",
    "plt.xlabel('Angle [Deg]')\n",
    "plt.ylabel('Energy [au]')\n",
    "plt.ylim(-76.1, -75.8)\n",
    "plt.show()"
   ]
  },
  {
   "cell_type": "markdown",
   "metadata": {},
   "source": [
    "You should get something like this:\n",
    "![](files/Water_angle.png)"
   ]
  },
  {
   "cell_type": "markdown",
   "metadata": {},
   "source": [
    "### <i class=\"fa fa-question-circle\"></i> Questions  <br> Which angle  corresponds to the minimum energy?  <br>  How does it compare with the experimental value?<br> What can be changed to improve the calculation?<br>"
   ]
  },
  {
   "cell_type": "markdown",
   "metadata": {},
   "source": [
    "** Answer here**"
   ]
  },
  {
   "cell_type": "markdown",
   "metadata": {},
   "source": [
    "# <i class=\"fa fa-check-circle-o\"></i> Exercise 5: <br> Basis set / Orbitals of Water  <i class=\"fa fa-drupal\"></i>\n",
    "## 1 point\n",
    "\n",
    "![](files/h2o_orbitals.png)\n",
    "Partial Credits: [http://www1.lsbu.ac.uk/water/h2o_orbitals.html](http://www1.lsbu.ac.uk/water/h2o_orbitals.html)\n",
    "\n",
    "In this exercise, you will visualize basis functions and Molecular Orbitals for water using the 'sto-3g' basis set and hopefully reproduce the images above. You will need to use the function **create_Orbital_file(filename,mol,basis_set,orbitals,orb_e)** to create an orbital file and then use **Avogadro** to visualize the orbitals. You are also expected to save images of each AO and MO and append them to this notebook, you can do so by going to the main menu and cliking on **File > Export > Graphics ..**, this will open a file save dialog for a image of type png.\n",
    "\n",
    "![](files/avogadro_graphics.png)\n",
    "\n",
    "You are expected to:\n",
    "\n",
    "* Print the basis function information.\n",
    "* Visualize the AO coeficients orbitals. (**Hint**: we did this previously in the basis set intro)\n",
    "* Visualize the MO coeficients orbitals.\n",
    "* Plot all the possible molecular orbitals.\n",
    "* Make sense of what each of these numbers mean.\n",
    "* Compare energy values of the orbitals.\n",
    "\n",
    "And at the end discuss results.**Discussion is the most important part of this exercise**\n",
    "\n",
    "\n",
    "### Now, on calculating MO's\n",
    "If we have $n$ basis functions $\\phi_i$ and a molecular coeficicient matrix $C$, we can calculate the $j-th$ Molecular orbital as:\n",
    "\n",
    "$$\n",
    "f_j(r) = \\sum_{i}^{n} C_{ij} \\phi_i (r) \n",
    "$$\n",
    "\n",
    "The script **qworld.create_Orbital_file** will take the information of the basis sets and the matrix $C$ and put it into a file with the correct format for being read by Avogadro. To generate the MO file you need to provide the information of the optimal $C$ obtained from the Hartree-Fock calculation (a.k.a the matrix orbitals). To generate an AO file, the matrix $C$ needs to be an identity matrix. Avogadro will help you generating the iso-surfaces but you might have to tweak the iso value such as your plots are similar to the ones appearing in the reference figure.\n",
    "\n",
    "#### Fill any code you used right below"
   ]
  },
  {
   "cell_type": "code",
   "execution_count": null,
   "metadata": {
    "collapsed": true
   },
   "outputs": [],
   "source": [
    "#calculate the optimal geometry of H2O (pick one theta from the previous calculation)\n",
    "\n",
    "#obtain the AO and MO orbitals"
   ]
  },
  {
   "cell_type": "markdown",
   "metadata": {},
   "source": [
    "### Insert images of your orbitals here\n",
    "You can use the following code to insert the image:\n",
    "```\n",
    "![](fileslocation)\n",
    "```\n",
    "for example if the file is called \"water_mo1.png\" and it's located in the same directory as your ipython notebook:\n",
    "```\n",
    "![](water_mo1.png)\n",
    "```\n",
    "You can also upload them to the internet (e.g. imgur) and provide the link as:\n",
    "```\n",
    "![](http://i.imgur.com/cXclkJJ.gif)\n",
    "```"
   ]
  },
  {
   "cell_type": "markdown",
   "metadata": {},
   "source": [
    "Images here"
   ]
  },
  {
   "cell_type": "markdown",
   "metadata": {},
   "source": [
    "### <i class=\"fa fa-question-circle\"></i> Questions  <br>What is the relation between basis functions, Atomic Orbitals, and MO orbitals? <br> How does the basis set affect the energy, types of AO orbitals and MO orbitals that you obtain?<br>\n"
   ]
  },
  {
   "cell_type": "markdown",
   "metadata": {},
   "source": [
    "Answer Here"
   ]
  },
  {
   "cell_type": "markdown",
   "metadata": {},
   "source": [
    "# <i class=\"fa fa-check-circle-o\"></i> Exercise 6: <br> The Reaction of Formaldehyde <br> with the Cyanide Anion\n",
    "## 1 point\n",
    "![](files/Cyanide_formal_rxn.png)\n",
    "\n",
    "Next, we're going to take the orbitals that we get out of a Hartree-Fock computation done on formaldehyde and cyanide and plot them. Our goal is to gain a qualitative picture of the reaction by examining the orbitals involved. We'll first have to take the molecules and run our Hartree-Fock method on them. From there, you will plot the HOMO of cyanide and the LUMO, LUMO+1 and LUMO+2 of formaldehyde.\n",
    "\n",
    "If you are interested in understanding more on how \"Molecular orbitals explain reactivity\", [google is your friend](http://lmgtfy.com/?q=Molecular+orbitals+explain+the+reactivity+of+the+carbonyl+group), there many, many, many sources of information on the subject.\n",
    "\n",
    "**Note:** Remember HOMO stands for **Highest Ocuppied Molecular Orbital** and LUMO **Lowest Unoccupied Molecular Orbital**.\n",
    "\n",
    "## Set the molecules"
   ]
  },
  {
   "cell_type": "code",
   "execution_count": null,
   "metadata": {
    "collapsed": false
   },
   "outputs": [],
   "source": [
    "#Do you remember how to get the 3D geometry of a molecule?\n"
   ]
  },
  {
   "cell_type": "markdown",
   "metadata": {},
   "source": [
    "## Calculate the orbitals\n",
    "Don't forget to create the orbital files.\n"
   ]
  },
  {
   "cell_type": "code",
   "execution_count": null,
   "metadata": {
    "collapsed": false
   },
   "outputs": [],
   "source": []
  },
  {
   "cell_type": "markdown",
   "metadata": {},
   "source": [
    "##  <i class=\"fa fa-eye\"></i> Show your orbitals!\n",
    "\n",
    "Visualize the HOMO of cyanide and the LUMO, LUMO+1 and LUMO+2 of formaldehyde."
   ]
  },
  {
   "cell_type": "markdown",
   "metadata": {},
   "source": [
    "Images here"
   ]
  },
  {
   "cell_type": "markdown",
   "metadata": {},
   "source": [
    "### <i class=\"fa fa-question-circle\"></i> Questions  <br> How does the form of the HOMO of cyanide and the LUMOs of formaldehyde relate to the mechanism of this nucleophilic addition reaction ?<br>"
   ]
  },
  {
   "cell_type": "markdown",
   "metadata": {},
   "source": [
    "** Place your answers here **\n"
   ]
  },
  {
   "cell_type": "markdown",
   "metadata": {},
   "source": [
    "# <i class=\"fa fa-check-circle-o\"></i> Bonus Exercise 1: <br> Your Own Chemical Application!\n",
    "## 1 point!\n",
    "\n",
    "\n",
    "Pick a chemical system or reaction of interest and apply your Hartree-Fock code to explain some features that are revealed by quantum chemistry. \n",
    "Some ideas, pointers, you don't have to follow all:\n",
    "\n",
    "* Choose a relatively small system. \n",
    "* Take a look at a modern organic chemistry book, maybe you can reproduce some of those orbital plots.\n",
    "* How does HF scale with basis set for a few systems of different size? Curve fit this trend.\n",
    "* Look at other reactions.\n",
    "* Geometry optimization (bond length, bond angle, bond torsion)"
   ]
  },
  {
   "cell_type": "raw",
   "metadata": {
    "collapsed": false
   },
   "source": []
  }
 ],
 "metadata": {
  "kernelspec": {
   "display_name": "Python 2",
   "language": "python",
   "name": "python2"
  },
  "language_info": {
   "codemirror_mode": {
    "name": "ipython",
    "version": 2
   },
   "file_extension": ".py",
   "mimetype": "text/x-python",
   "name": "python",
   "nbconvert_exporter": "python",
   "pygments_lexer": "ipython2",
   "version": "2.7.10"
  }
 },
 "nbformat": 4,
 "nbformat_minor": 0
}
